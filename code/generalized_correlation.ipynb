{
 "cells": [
  {
   "cell_type": "code",
   "execution_count": 1,
   "id": "78c2f764",
   "metadata": {},
   "outputs": [],
   "source": [
    "import numpy as np\n",
    "import pandas as pd\n",
    "from scipy.stats import norm\n",
    "import scipy.sparse as sparse\n",
    "import math\n",
    "import matplotlib.pylab as plt\n",
    "%matplotlib inline\n",
    "from importlib import reload\n",
    "import matplotlib.mlab as mlab\n",
    "import pickle\n",
    "\n",
    "from gen_corr_utils import *\n",
    "from gen_sim_data import * \n",
    "\n",
    "%load_ext autoreload\n",
    "%autoreload 2\n",
    "\n",
    "import matplotlib\n",
    "matplotlib.rcParams.update({'font.size': 14})"
   ]
  },
  {
   "cell_type": "markdown",
   "id": "782f214b",
   "metadata": {},
   "source": [
    "#### generate simulated data"
   ]
  },
  {
   "cell_type": "code",
   "execution_count": 2,
   "id": "4912e933",
   "metadata": {},
   "outputs": [],
   "source": [
    "error_type = 'iid'; error_type_folder='IID'"
   ]
  },
  {
   "cell_type": "code",
   "execution_count": 3,
   "id": "f8de68fa",
   "metadata": {},
   "outputs": [],
   "source": [
    "np.random.seed(1234)\n",
    "T = 50; N = 50; \n",
    "k = 1 # number of factors\n",
    "multiplier = .2\n",
    "X, Cbar, S, F, Lam1, Lam2 = generate_simulation_data(N, T, r=k, mu=0, sigma=1, error_type=\"iid\", multiplier=multiplier)"
   ]
  },
  {
   "cell_type": "code",
   "execution_count": 4,
   "id": "e4393864",
   "metadata": {},
   "outputs": [
    {
     "data": {
      "text/plain": [
       "count    50.000000\n",
       "mean      0.003661\n",
       "std       0.014127\n",
       "min      -0.019951\n",
       "25%      -0.009028\n",
       "50%       0.007039\n",
       "75%       0.017328\n",
       "max       0.020000\n",
       "dtype: float64"
      ]
     },
     "execution_count": 4,
     "metadata": {},
     "output_type": "execute_result"
    }
   ],
   "source": [
    "pd.Series(S).describe()"
   ]
  },
  {
   "cell_type": "markdown",
   "id": "ae1014fa",
   "metadata": {},
   "source": [
    "#### estimate factor model"
   ]
  },
  {
   "cell_type": "code",
   "execution_count": 5,
   "id": "f9280917",
   "metadata": {},
   "outputs": [
    {
     "name": "stdout",
     "output_type": "stream",
     "text": [
      "(50, 1) (50, 1) [0.97360192]\n"
     ]
    }
   ],
   "source": [
    "s = 0.\n",
    "h = multiplier * 0.3 # bandwidth\n",
    "k = 1 \n",
    "Fhat, Lambdahat, V = estimate(X, S, s, h, k)\n",
    "print(Fhat.shape, Lambdahat.shape, V)"
   ]
  },
  {
   "cell_type": "markdown",
   "id": "bb39fb66",
   "metadata": {},
   "source": [
    "#### estimate generalized correlation of loadings in two states\n",
    "the generalized correlation decreases with the distance of two states"
   ]
  },
  {
   "cell_type": "code",
   "execution_count": 6,
   "id": "4d632ed6",
   "metadata": {},
   "outputs": [
    {
     "name": "stdout",
     "output_type": "stream",
     "text": [
      "0.9998601426788646\n"
     ]
    }
   ],
   "source": [
    "s1 = - multiplier * 0.05; s2 = multiplier * 0.05\n",
    "rhohat = estimate_generalized_correlation(X, S, s1, s2, h, k=1)\n",
    "print(rhohat)"
   ]
  },
  {
   "cell_type": "code",
   "execution_count": 7,
   "id": "c4487d93",
   "metadata": {},
   "outputs": [
    {
     "name": "stdout",
     "output_type": "stream",
     "text": [
      "0.9950493940565708\n"
     ]
    }
   ],
   "source": [
    "s1 = - multiplier * 0.3; s2 = multiplier * 0.3\n",
    "rhohat = estimate_generalized_correlation(X, S, s1, s2, h, k=1)\n",
    "print(rhohat)"
   ]
  },
  {
   "cell_type": "markdown",
   "id": "7f9cc49a",
   "metadata": {},
   "source": [
    "#### calculate the standard error of the generalized correlation"
   ]
  },
  {
   "cell_type": "code",
   "execution_count": 8,
   "id": "1539e9a0",
   "metadata": {},
   "outputs": [
    {
     "name": "stdout",
     "output_type": "stream",
     "text": [
      "-1.4363077960834834\n"
     ]
    }
   ],
   "source": [
    "s1 = - multiplier * 0.05; s2 = multiplier * 0.05\n",
    "rho_test_stats = inference_generalized_correlation(X, S, s1, s2, h, k=1)\n",
    "print(rho_test_stats)"
   ]
  },
  {
   "cell_type": "code",
   "execution_count": 9,
   "id": "32e91777",
   "metadata": {},
   "outputs": [
    {
     "name": "stdout",
     "output_type": "stream",
     "text": [
      "-1.519487435753274\n"
     ]
    }
   ],
   "source": [
    "s1 = - multiplier * 0.3; s2 = multiplier * 0.3\n",
    "rho_test_stats = inference_generalized_correlation(X, S, s1, s2, h, k=1)\n",
    "print(rho_test_stats)"
   ]
  }
 ],
 "metadata": {
  "kernelspec": {
   "display_name": "Python 3",
   "language": "python",
   "name": "python3"
  },
  "language_info": {
   "codemirror_mode": {
    "name": "ipython",
    "version": 3
   },
   "file_extension": ".py",
   "mimetype": "text/x-python",
   "name": "python",
   "nbconvert_exporter": "python",
   "pygments_lexer": "ipython3",
   "version": "3.8.8"
  }
 },
 "nbformat": 4,
 "nbformat_minor": 5
}
